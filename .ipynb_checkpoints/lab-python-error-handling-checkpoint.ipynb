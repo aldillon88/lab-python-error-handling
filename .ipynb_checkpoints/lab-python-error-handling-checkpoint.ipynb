{
 "cells": [
  {
   "cell_type": "markdown",
   "id": "25d7736c-ba17-4aff-b6bb-66eba20fbf4e",
   "metadata": {},
   "source": [
    "# Lab | Error Handling"
   ]
  },
  {
   "cell_type": "markdown",
   "id": "bc99b386-7508-47a0-bcdb-d969deaf6c8b",
   "metadata": {},
   "source": [
    "## Exercise: Error Handling for Managing Customer Orders\n",
    "\n",
    "The implementation of your code for managing customer orders assumes that the user will always enter a valid input. \n",
    "\n",
    "For example, we could modify the `initialize_inventory` function to include error handling.\n",
    "   - If the user enters an invalid quantity (e.g., a negative value or a non-numeric value), display an error message and ask them to re-enter the quantity for that product.\n",
    "   - Use a try-except block to handle the error and continue prompting the user until a valid quantity is entered.\n",
    "\n",
    "```python\n",
    "# Step 1: Define the function for initializing the inventory with error handling\n",
    "def initialize_inventory(products):\n",
    "    inventory = {}\n",
    "    for product in products:\n",
    "        valid_quantity = False\n",
    "        while not valid_quantity:\n",
    "            try:\n",
    "                quantity = int(input(f\"Enter the quantity of {product}s available: \"))\n",
    "                if quantity < 0:\n",
    "                    raise ValueError(\"Invalid quantity! Please enter a non-negative value.\")\n",
    "                valid_quantity = True\n",
    "            except ValueError as error:\n",
    "                print(f\"Error: {error}\")\n",
    "        inventory[product] = quantity\n",
    "    return inventory\n",
    "\n",
    "# Or, in another way:\n",
    "\n",
    "def initialize_inventory(products):\n",
    "    inventory = {}\n",
    "    for product in products:\n",
    "        valid_input = False\n",
    "        while not valid_input:\n",
    "            try:\n",
    "                quantity = int(input(f\"Enter the quantity of {product}s available: \"))\n",
    "                if quantity >= 0:\n",
    "                    inventory[product] = quantity\n",
    "                    valid_input = True\n",
    "                else:\n",
    "                    print(\"Quantity cannot be negative. Please enter a valid quantity.\")\n",
    "            except ValueError:\n",
    "                print(\"Invalid input. Please enter a valid quantity.\")\n",
    "    return inventory\n",
    "```\n",
    "\n",
    "Let's enhance your code by implementing error handling to handle invalid inputs.\n",
    "\n",
    "Follow the steps below to complete the exercise:\n",
    "\n",
    "2. Modify the `calculate_total_price` function to include error handling.\n",
    "   - If the user enters an invalid price (e.g., a negative value or a non-numeric value), display an error message and ask them to re-enter the price for that product.\n",
    "   - Use a try-except block to handle the error and continue prompting the user until a valid price is entered.\n",
    "\n",
    "3. Modify the `get_customer_orders` function to include error handling.\n",
    "   - If the user enters an invalid number of orders (e.g., a negative value or a non-numeric value), display an error message and ask them to re-enter the number of orders.\n",
    "   - If the user enters an invalid product name (e.g., a product name that is not in the inventory), or that doesn't have stock available, display an error message and ask them to re-enter the product name. *Hint: you will need to pass inventory as a parameter*\n",
    "   - Use a try-except block to handle the error and continue prompting the user until a valid product name is entered.\n",
    "\n",
    "4. Test your code by running the program and deliberately entering invalid quantities and product names. Make sure the error handling mechanism works as expected.\n"
   ]
  },
  {
   "cell_type": "code",
   "execution_count": 18,
   "id": "0c6bfbdb-202b-46f2-81a1-c1bf2b14cd65",
   "metadata": {},
   "outputs": [
    {
     "name": "stdin",
     "output_type": "stream",
     "text": [
      "Enter the quantity of t-shirts available:  2\n",
      "Enter the quantity of mugs available:  2\n",
      "Enter the quantity of hats available:  1\n",
      "Enter the quantity of books available:  d\n"
     ]
    },
    {
     "name": "stdout",
     "output_type": "stream",
     "text": [
      "Error: invalid literal for int() with base 10: 'd'\n"
     ]
    },
    {
     "name": "stdin",
     "output_type": "stream",
     "text": [
      "Enter the quantity of books available:  f\n"
     ]
    },
    {
     "name": "stdout",
     "output_type": "stream",
     "text": [
      "Error: invalid literal for int() with base 10: 'f'\n"
     ]
    },
    {
     "name": "stdin",
     "output_type": "stream",
     "text": [
      "Enter the quantity of books available:  2\n",
      "Enter the quantity of keychains available:  1\n",
      "Enter the number of customer orders:  2\n",
      "Enter the name of a product that a customer wants to order: dd\n"
     ]
    },
    {
     "name": "stdout",
     "output_type": "stream",
     "text": [
      "dd is cannot be found in the inventory. Please enter another product: \n"
     ]
    },
    {
     "name": "stdin",
     "output_type": "stream",
     "text": [
      "Enter the name of a product that a customer wants to order: sdf\n"
     ]
    },
    {
     "name": "stdout",
     "output_type": "stream",
     "text": [
      "sdf is cannot be found in the inventory. Please enter another product: \n"
     ]
    },
    {
     "name": "stdin",
     "output_type": "stream",
     "text": [
      "Enter the name of a product that a customer wants to order: mug\n",
      "Enter the name of a product that a customer wants to order: hat\n"
     ]
    },
    {
     "name": "stdout",
     "output_type": "stream",
     "text": [
      "\n",
      "Order Statistics:\n",
      "Total Products Ordered: 2\n",
      "Percentage of Products Ordered: 40.0%\n",
      "\n",
      "Updated Inventory:\n",
      "t-shirt 2\n",
      "mug 1\n",
      "book 2\n",
      "keychain 1\n"
     ]
    },
    {
     "name": "stdin",
     "output_type": "stream",
     "text": [
      "Enter the unit price for mug:  df\n"
     ]
    },
    {
     "name": "stdout",
     "output_type": "stream",
     "text": [
      "Error: invalid literal for int() with base 10: 'df'\n"
     ]
    },
    {
     "name": "stdin",
     "output_type": "stream",
     "text": [
      "Enter the unit price for mug:  -1\n"
     ]
    },
    {
     "name": "stdout",
     "output_type": "stream",
     "text": [
      "Error: Price cannot be negative. Please enter a non-negative value.\n"
     ]
    },
    {
     "name": "stdin",
     "output_type": "stream",
     "text": [
      "Enter the unit price for mug:  10\n",
      "Enter the unit price for hat:  10\n"
     ]
    },
    {
     "name": "stdout",
     "output_type": "stream",
     "text": [
      "The total price is 20\n"
     ]
    }
   ],
   "source": [
    "products = [\"t-shirt\", \"mug\", \"hat\", \"book\", \"keychain\"]\n",
    "\n",
    "def initialize_inventory(products):\n",
    "    inventory = {}\n",
    "    for product in products:\n",
    "        valid_quantity = False\n",
    "        while not valid_quantity:\n",
    "            try:\n",
    "                quantity = int(input(f\"Enter the quantity of {product}s available: \"))\n",
    "                if quantity < 0:\n",
    "                    raise ValueError(\"Invalid quantity! Please enter a non-negative value.\")\n",
    "                valid_quantity = True\n",
    "            except ValueError as error:\n",
    "                print(f\"Error: {error}\")\n",
    "        inventory[product] = quantity\n",
    "    return inventory\n",
    "\n",
    "def get_customer_orders(inventory):\n",
    "    try:\n",
    "        num_customer_orders = int(input(\"Enter the number of customer orders: \"))\n",
    "        if num_customer_orders < 0:\n",
    "            raise ValueError(\"Invalid number of orders! Please enter a non-negative value.\")\n",
    "    except ValueError:\n",
    "        print(\"That is not a valid number. Please enter a valid number\")\n",
    "        return(get_customer_orders(inventory)) \n",
    "    \n",
    "    customer_orders = set()\n",
    "    while len(customer_orders) < num_customer_orders:\n",
    "        try:\n",
    "            prod = input(\"Enter the name of a product that a customer wants to order:\")\n",
    "            if prod not in inventory.keys():\n",
    "                raise KeyError(f\"{prod} is cannot be found in the blablabla. Please enter another product: \")\n",
    "            else:\n",
    "                customer_orders.add(prod)\n",
    "        except:\n",
    "            print(f\"{prod} is cannot be found in the inventory. Please enter another product: \")\n",
    "    return customer_orders\n",
    "\n",
    "def calculate_total_price(customer_orders):\n",
    "    prices = {}\n",
    "    for item in customer_orders:\n",
    "        while True:  # Loop until a valid price is entered\n",
    "            try:\n",
    "                price = int(input(f\"Enter the unit price for {item}: \"))\n",
    "                if price < 0:\n",
    "                    raise ValueError(\"Price cannot be negative. Please enter a non-negative value.\")\n",
    "                prices[item] = price  # Store the valid price\n",
    "                break  # Exit the loop if a valid price is entered\n",
    "            except ValueError as e:\n",
    "                print(f\"Error: {e}\")  # Display error message for invalid input\n",
    "    total_price = sum(prices.values())\n",
    "    return total_price\n",
    "\n",
    "\n",
    "def update_inventory(customer_orders, inventory):\n",
    "    inventory = {key: (value - 1 if key in customer_orders else value) for key, value in inventory.items()}\n",
    "    keys_to_remove = [key for key, value in inventory.items() if value == 0]\n",
    "    for key in keys_to_remove:\n",
    "        inventory.pop(key)\n",
    "    return inventory\n",
    "\n",
    "\n",
    "def calculate_order_statistics(customer_orders, products):\n",
    "    order_statistics = {}\n",
    "    order_statistics[\"percentage_of_unique_products_ordered\"] = str(len(customer_orders) / len(products) * 100)\n",
    "    order_statistics[\"total_products_ordered\"] = str(len(customer_orders))\n",
    "    return order_statistics\n",
    "\n",
    "\n",
    "def print_order_statistics(order_statistics):\n",
    "    print('\\nOrder Statistics:\\nTotal Products Ordered: ' + order_statistics[\"total_products_ordered\"] + '\\nPercentage of Products Ordered: ' + order_statistics[\"percentage_of_unique_products_ordered\"] + '%\\n')\n",
    "\n",
    "\n",
    "def print_updated_inventory(inventory):\n",
    "    print(\"Updated Inventory:\")\n",
    "    {print(key, value) for (key, value) in inventory.items()}\n",
    "\n",
    "\n",
    "inventory = initialize_inventory(products)\n",
    "customer_orders = get_customer_orders(inventory)\n",
    "order_statistics = calculate_order_statistics(customer_orders, products)\n",
    "print_order_statistics(order_statistics)\n",
    "updated_inventory = update_inventory(customer_orders, inventory)\n",
    "print_updated_inventory(updated_inventory)\n",
    "total_price = calculate_total_price(customer_orders)\n",
    "print(f\"The total price is {total_price}\")"
   ]
  }
 ],
 "metadata": {
  "kernelspec": {
   "display_name": "Python 3 (ipykernel)",
   "language": "python",
   "name": "python3"
  },
  "language_info": {
   "codemirror_mode": {
    "name": "ipython",
    "version": 3
   },
   "file_extension": ".py",
   "mimetype": "text/x-python",
   "name": "python",
   "nbconvert_exporter": "python",
   "pygments_lexer": "ipython3",
   "version": "3.11.7"
  }
 },
 "nbformat": 4,
 "nbformat_minor": 5
}
